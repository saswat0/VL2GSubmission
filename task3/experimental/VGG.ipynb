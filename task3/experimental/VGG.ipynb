{
 "cells": [
  {
   "cell_type": "code",
   "execution_count": 1,
   "id": "ea35992a",
   "metadata": {},
   "outputs": [],
   "source": [
    "import os\n",
    "import cv2\n",
    "import copy\n",
    "import torch\n",
    "import torch.nn as nn\n",
    "import torch.nn.functional as F\n",
    "import torch.utils.data as Data\n",
    "import torchvision\n",
    "import torchvision.transforms as transforms\n",
    "import numpy as np\n",
    "import matplotlib.pyplot as plt\n",
    "from tqdm import tqdm"
   ]
  },
  {
   "cell_type": "code",
   "execution_count": 2,
   "id": "c88bffc0",
   "metadata": {},
   "outputs": [],
   "source": [
    "data_transforms = {\n",
    "    'train': transforms.Compose([\n",
    "        transforms.Resize((224, 224)),\n",
    "        transforms.RandomPosterize(bits=2),\n",
    "        transforms.RandomHorizontalFlip(),\n",
    "        transforms.ToTensor(),\n",
    "        transforms.Normalize([0.485, 0.456, 0.406], [0.229, 0.224, 0.225])\n",
    "    ]),\n",
    "\n",
    "    'val': transforms.Compose([\n",
    "        transforms.Resize((224, 224)),\n",
    "        transforms.RandomPosterize(bits=2),\n",
    "        transforms.RandomHorizontalFlip(),\n",
    "        transforms.ToTensor(),\n",
    "        transforms.Normalize([0.485, 0.456, 0.406], [0.229, 0.224, 0.225])\n",
    "    ])    \n",
    "}\n",
    "\n",
    "device = torch.device(\"cuda:0\" if torch.cuda.is_available() else \"cpu\")\n",
    "\n",
    "root_dir = '../../dataset'\n",
    "train_data = torchvision.datasets.ImageFolder(\n",
    "    root=os.path.join(root_dir, 'train'),\n",
    "    transform=data_transforms['train']\n",
    ")\n",
    "\n",
    "val_data = torchvision.datasets.ImageFolder(\n",
    "    root=os.path.join(root_dir, 'val'),\n",
    "    transform=data_transforms['val']\n",
    ")"
   ]
  },
  {
   "cell_type": "code",
   "execution_count": 3,
   "id": "60f59e8f",
   "metadata": {},
   "outputs": [],
   "source": [
    "class_names = train_data.classes\n",
    "dataset_sizes = {'train': len(train_data), 'val': len(val_data)}\n",
    "\n",
    "dataloaders = {  \n",
    "    'train': Data.DataLoader(\n",
    "        dataset=train_data,\n",
    "        batch_size=32,\n",
    "        shuffle=True,\n",
    "    ),\n",
    "\n",
    "    'val': Data.DataLoader(\n",
    "        dataset=val_data,\n",
    "        batch_size=1,\n",
    "        shuffle=True,\n",
    "    ),    \n",
    "}"
   ]
  },
  {
   "cell_type": "code",
   "execution_count": 4,
   "id": "7590cc81",
   "metadata": {},
   "outputs": [],
   "source": [
    "def imshow(image, title=None):\n",
    "    image = image.numpy().transpose((1, 2, 0)) \n",
    "    mean = np.array([0.485, 0.456, 0.406])\n",
    "    std = np.array([0.229, 0.224, 0.225])\n",
    "    image = image * std + mean\n",
    "    image = np.clip(image, 0, 1)\n",
    "    plt.imshow(image)\n",
    "    if title:\n",
    "        plt.title(title)\n",
    "        \n",
    "def visualize_model(model, num_images=6):\n",
    "    was_training = model.training\n",
    "    model.eval()\n",
    "    images_so_far = 0\n",
    "    fig = plt.figure()\n",
    "    \n",
    "    for step, (images, labels) in enumerate(dataloaders['val']): \n",
    "        images, labels = images.to(device), labels.to(device)\n",
    "        outputs = model(images)\n",
    "        preds = torch.max(outputs, 1)[1]\n",
    "        \n",
    "        for i in range(images.size(0)):\n",
    "            images_so_far += 1\n",
    "            ax = plt.subplot(num_images//2, 2, images_so_far)\n",
    "            ax.axis('off')\n",
    "            ax.set_title('predicted: {}'.format(class_names[preds[i]]))\n",
    "            imshow(images.cpu().data[i])\n",
    "            \n",
    "            if images_so_far == num_images:\n",
    "                model.train(mode=was_training)\n",
    "                return\n",
    "    \n",
    "    model.train(mode=was_training)"
   ]
  },
  {
   "cell_type": "code",
   "execution_count": 5,
   "id": "f7ba8a87",
   "metadata": {},
   "outputs": [],
   "source": [
    "vgg = torchvision.models.vgg16(pretrained=True) \n",
    "\n",
    "class VGG(torch.nn.Module):\n",
    "    def __init__(self):\n",
    "        super(VGG, self).__init__()\n",
    "        self.vgg = torchvision.models.vgg16(pretrained=True) \n",
    "        self.conv = nn.Sequential(\n",
    "            self.vgg.features, \n",
    "            self.vgg.avgpool \n",
    "        )\n",
    "        self.fc = nn.Linear(512, 5)\n",
    "\n",
    "    def forward(self,x):    \n",
    "        x = self.conv(x)\n",
    "        x = x.view(-1, 512, 7*7).mean(2)\n",
    "        x = self.fc(x)\n",
    "        return x \n",
    "\n",
    "def train_model(model, loss_fn, optimizer, scheduler, num_epochs=25):\n",
    "    \n",
    "    best_accuracy = 0.0\n",
    "    train_loss = []\n",
    "    val_loss = []\n",
    "    train_acc = []\n",
    "    val_acc = []\n",
    "    \n",
    "    for epoch in range(num_epochs):\n",
    "        print(f'Epoch {epoch+1}/{num_epochs}')\n",
    "        \n",
    "        step_loss = 0.0\n",
    "        epoch_accuracy = 0.0\n",
    "        \n",
    "        for phase in ['train', 'val']:\n",
    "            if phase == 'train':\n",
    "                model.train()\n",
    "            else:\n",
    "                model.eval()\n",
    "            \n",
    "            step_loss = 0.0\n",
    "            step_corrects = 0\n",
    "            \n",
    "            for step, (images, labels) in enumerate(dataloaders[phase]):      \n",
    "               \n",
    "                images, labels = images.to(device), labels.to(device)\n",
    "                outputs = model(images) \n",
    "                preds = torch.max(outputs, 1)[1]\n",
    "                loss = loss_fn(outputs, labels)\n",
    "                \n",
    "                if phase == 'train':\n",
    "                    optimizer.zero_grad()\n",
    "                    loss.backward()\n",
    "                    optimizer.step()\n",
    "\n",
    "                step_loss += loss.item() * images.size(0)\n",
    "                step_corrects += torch.sum(preds == labels.data)\n",
    "            \n",
    "            if phase == 'train':\n",
    "                scheduler.step()\n",
    "            \n",
    "            epoch_loss = step_loss / dataset_sizes[phase]\n",
    "            epoch_accuracy = step_corrects.double() / dataset_sizes[phase]\n",
    "            print('{} Loss: {:.4f} Accuracy: {:.4f}'.format(\n",
    "                phase, epoch_loss, epoch_accuracy))\n",
    "\n",
    "            if phase == 'train':\n",
    "                train_loss.append(epoch_loss)\n",
    "                train_acc.append(epoch_accuracy)\n",
    "            else:\n",
    "                val_loss.append(epoch_loss)\n",
    "                val_acc.append(epoch_accuracy)\n",
    "\n",
    "            if phase == 'val' and epoch_accuracy > best_accuracy:\n",
    "                best_accuracy = epoch_accuracy\n",
    "        print()\n",
    "        \n",
    "    print('Best Validation Accuracy: {:4f}'.format(best_accuracy))\n",
    "\n",
    "    x = np.arange(num_epochs)\n",
    "    plt.subplot(221)\n",
    "    plt.plot(x, train_loss, c='red', label='train loss')\n",
    "    plt.plot(x, val_loss, c='blue', label='val loss')\n",
    "    plt.legend(loc='best')\n",
    "\n",
    "    plt.subplot(222)\n",
    "    plt.plot(x, train_acc, c='red', label='train acc')\n",
    "    plt.plot(x, val_acc, c='blue', label='val acc')\n",
    "    plt.legend(loc='best')\n",
    "\n",
    "    plt.show()\n",
    "\n",
    "    return model"
   ]
  },
  {
   "cell_type": "code",
   "execution_count": 6,
   "id": "0b9e3a37",
   "metadata": {},
   "outputs": [],
   "source": [
    "model = VGG()\n",
    "model = model.to(device)\n",
    "\n",
    "trainable_parameters = []\n",
    "for name, p in model.named_parameters():\n",
    "    if \"fc\" in name:\n",
    "        trainable_parameters.append(p)\n",
    "\n",
    "loss_fn = torch.nn.CrossEntropyLoss()\n",
    "\n",
    "optimizer = torch.optim.SGD(trainable_parameters, lr=0.001, momentum=0.9)\n",
    "exp_lr_scheduler = torch.optim.lr_scheduler.StepLR(optimizer, step_size=7, gamma=0.1)"
   ]
  },
  {
   "cell_type": "code",
   "execution_count": 7,
   "id": "aa3d244f",
   "metadata": {},
   "outputs": [
    {
     "name": "stdout",
     "output_type": "stream",
     "text": [
      "Epoch 1/10\n",
      "train Loss: 1.4576 Accuracy: 0.5511\n",
      "val Loss: 1.2751 Accuracy: 0.8131\n",
      "\n",
      "Epoch 2/10\n",
      "train Loss: 1.1063 Accuracy: 0.8554\n",
      "val Loss: 0.9837 Accuracy: 0.9192\n",
      "\n",
      "Epoch 3/10\n",
      "train Loss: 0.8518 Accuracy: 0.9589\n",
      "val Loss: 0.7911 Accuracy: 0.9798\n",
      "\n",
      "Epoch 4/10\n",
      "train Loss: 0.6971 Accuracy: 0.9800\n",
      "val Loss: 0.6720 Accuracy: 0.9747\n",
      "\n",
      "Epoch 5/10\n",
      "train Loss: 0.5928 Accuracy: 0.9813\n",
      "val Loss: 0.5821 Accuracy: 0.9848\n",
      "\n",
      "Epoch 6/10\n",
      "train Loss: 0.5084 Accuracy: 0.9838\n",
      "val Loss: 0.5119 Accuracy: 0.9747\n",
      "\n",
      "Epoch 7/10\n",
      "train Loss: 0.4520 Accuracy: 0.9825\n",
      "val Loss: 0.4716 Accuracy: 0.9798\n",
      "\n",
      "Epoch 8/10\n",
      "train Loss: 0.4260 Accuracy: 0.9913\n",
      "val Loss: 0.4502 Accuracy: 0.9899\n",
      "\n",
      "Epoch 9/10\n",
      "train Loss: 0.4197 Accuracy: 0.9913\n",
      "val Loss: 0.4543 Accuracy: 0.9899\n",
      "\n",
      "Epoch 10/10\n",
      "train Loss: 0.4114 Accuracy: 0.9913\n",
      "val Loss: 0.4515 Accuracy: 0.9798\n",
      "\n",
      "Best Validation Accuracy: 0.989899\n"
     ]
    },
    {
     "data": {
      "image/png": "[encoded data removed]",
      "text/plain": [
       "<Figure size 432x288 with 2 Axes>"
      ]
     },
     "metadata": {
      "needs_background": "light"
     },
     "output_type": "display_data"
    }
   ],
   "source": [
    "model = train_model(model, loss_fn, optimizer, exp_lr_scheduler, num_epochs=10)"
   ]
  },
  {
   "cell_type": "code",
   "execution_count": 8,
   "id": "f405b234",
   "metadata": {},
   "outputs": [
    {
     "data": {
      "image/png": "[encoded data removed]",
      "text/plain": [
       "<Figure size 432x288 with 6 Axes>"
      ]
     },
     "metadata": {
      "needs_background": "light"
     },
     "output_type": "display_data"
    }
   ],
   "source": [
    "visualize_model(model)"
   ]
  },
  {
   "cell_type": "code",
   "execution_count": 9,
   "id": "a9512de9",
   "metadata": {},
   "outputs": [],
   "source": [
    "torch.save(model.state_dict(), 'ckpt.pth')"
   ]
  },
  {
   "cell_type": "code",
   "execution_count": null,
   "id": "f96f5077",
   "metadata": {},
   "outputs": [],
   "source": []
  }
 ],
 "metadata": {
  "kernelspec": {
   "display_name": "Python 3",
   "language": "python",
   "name": "python3"
  },
  "language_info": {
   "codemirror_mode": {
    "name": "ipython",
    "version": 3
   },
   "file_extension": ".py",
   "mimetype": "text/x-python",
   "name": "python",
   "nbconvert_exporter": "python",
   "pygments_lexer": "ipython3",
   "version": "3.8.8"
  },
  "vscode": {
   "interpreter": {
    "hash": "35350e04401fd67172f7e681562d1ac85f8a661aa3fa02671cdff32d28619f49"
   }
  }
 },
 "nbformat": 4,
 "nbformat_minor": 5
}
